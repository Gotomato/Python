{
 "cells": [
  {
   "cell_type": "markdown",
   "metadata": {},
   "source": [
    "## Chapter 5\n",
    "\n",
    "40. (任意の)回帰モデルをscikit-learn準拠でコーディングし, 実験せよ.\n",
    "\t- MyRegression()クラスに必要なメソッド等を記述せよ.\n",
    "\t- データは[`X_train.csv`](./data/X_train.csv)と[`y_train.csv`](./data/y_train.csv)を用いよ.\n",
    "\t- 評価は[`X_test.csv`](./data/X_test.csv)で行う. 予測結果を`../text/data/y_pred.csv`として保存せよ.\n",
    "    - 重回帰分析でもOK"
   ]
  },
  {
   "cell_type": "code",
   "execution_count": 1,
   "metadata": {},
   "outputs": [
    {
     "name": "stdout",
     "output_type": "stream",
     "text": [
      "0.24.0\n"
     ]
    }
   ],
   "source": [
    "import sklearn\n",
    "print(sklearn.__version__)\n",
    "import matplotlib.pyplot as plt\n",
    "%matplotlib inline"
   ]
  },
  {
   "cell_type": "code",
   "execution_count": 2,
   "metadata": {},
   "outputs": [
    {
     "data": {
      "text/html": [
       "<div>\n",
       "<style scoped>\n",
       "    .dataframe tbody tr th:only-of-type {\n",
       "        vertical-align: middle;\n",
       "    }\n",
       "\n",
       "    .dataframe tbody tr th {\n",
       "        vertical-align: top;\n",
       "    }\n",
       "\n",
       "    .dataframe thead th {\n",
       "        text-align: right;\n",
       "    }\n",
       "</style>\n",
       "<table border=\"1\" class=\"dataframe\">\n",
       "  <thead>\n",
       "    <tr style=\"text-align: right;\">\n",
       "      <th></th>\n",
       "      <th>平均気温</th>\n",
       "      <th>最高気温</th>\n",
       "      <th>最低気温</th>\n",
       "      <th>降水量の合計</th>\n",
       "      <th>平均風速</th>\n",
       "      <th>最大風速</th>\n",
       "      <th>最多風向</th>\n",
       "      <th>最大瞬間風速</th>\n",
       "      <th>平均蒸気圧</th>\n",
       "      <th>平均湿度</th>\n",
       "      <th>最小相対湿度</th>\n",
       "      <th>平均現地気圧</th>\n",
       "      <th>平均海面気圧</th>\n",
       "      <th>最低海面気圧</th>\n",
       "    </tr>\n",
       "  </thead>\n",
       "  <tbody>\n",
       "    <tr>\n",
       "      <th>0</th>\n",
       "      <td>22.4</td>\n",
       "      <td>23.6</td>\n",
       "      <td>20.3</td>\n",
       "      <td>0.0</td>\n",
       "      <td>2.8</td>\n",
       "      <td>5.0</td>\n",
       "      <td>北東</td>\n",
       "      <td>7.6</td>\n",
       "      <td>18.3</td>\n",
       "      <td>67</td>\n",
       "      <td>56</td>\n",
       "      <td>1013.9</td>\n",
       "      <td>1016.7</td>\n",
       "      <td>1015.2</td>\n",
       "    </tr>\n",
       "    <tr>\n",
       "      <th>1</th>\n",
       "      <td>18.2</td>\n",
       "      <td>21.3</td>\n",
       "      <td>14.9</td>\n",
       "      <td>6.5</td>\n",
       "      <td>2.8</td>\n",
       "      <td>5.3</td>\n",
       "      <td>北北東</td>\n",
       "      <td>9.8</td>\n",
       "      <td>16.2</td>\n",
       "      <td>78</td>\n",
       "      <td>63</td>\n",
       "      <td>1016.9</td>\n",
       "      <td>1019.8</td>\n",
       "      <td>1017.5</td>\n",
       "    </tr>\n",
       "    <tr>\n",
       "      <th>2</th>\n",
       "      <td>25.8</td>\n",
       "      <td>31.1</td>\n",
       "      <td>22.3</td>\n",
       "      <td>0.0</td>\n",
       "      <td>2.7</td>\n",
       "      <td>5.3</td>\n",
       "      <td>東北東</td>\n",
       "      <td>10.4</td>\n",
       "      <td>25.9</td>\n",
       "      <td>79</td>\n",
       "      <td>52</td>\n",
       "      <td>1006.5</td>\n",
       "      <td>1009.3</td>\n",
       "      <td>1004.7</td>\n",
       "    </tr>\n",
       "    <tr>\n",
       "      <th>3</th>\n",
       "      <td>18.4</td>\n",
       "      <td>23.0</td>\n",
       "      <td>16.2</td>\n",
       "      <td>0.0</td>\n",
       "      <td>2.8</td>\n",
       "      <td>5.2</td>\n",
       "      <td>東北東</td>\n",
       "      <td>9.4</td>\n",
       "      <td>16.7</td>\n",
       "      <td>80</td>\n",
       "      <td>53</td>\n",
       "      <td>1018.5</td>\n",
       "      <td>1021.4</td>\n",
       "      <td>1017.5</td>\n",
       "    </tr>\n",
       "    <tr>\n",
       "      <th>4</th>\n",
       "      <td>25.7</td>\n",
       "      <td>29.6</td>\n",
       "      <td>23.0</td>\n",
       "      <td>0.0</td>\n",
       "      <td>1.8</td>\n",
       "      <td>3.5</td>\n",
       "      <td>北北東</td>\n",
       "      <td>5.6</td>\n",
       "      <td>26.6</td>\n",
       "      <td>81</td>\n",
       "      <td>64</td>\n",
       "      <td>1015.6</td>\n",
       "      <td>1018.4</td>\n",
       "      <td>1016.7</td>\n",
       "    </tr>\n",
       "  </tbody>\n",
       "</table>\n",
       "</div>"
      ],
      "text/plain": [
       "   平均気温  最高気温  最低気温  降水量の合計  平均風速  最大風速 最多風向  最大瞬間風速  平均蒸気圧  平均湿度  最小相対湿度  \\\n",
       "0  22.4  23.6  20.3     0.0   2.8   5.0   北東     7.6   18.3    67      56   \n",
       "1  18.2  21.3  14.9     6.5   2.8   5.3  北北東     9.8   16.2    78      63   \n",
       "2  25.8  31.1  22.3     0.0   2.7   5.3  東北東    10.4   25.9    79      52   \n",
       "3  18.4  23.0  16.2     0.0   2.8   5.2  東北東     9.4   16.7    80      53   \n",
       "4  25.7  29.6  23.0     0.0   1.8   3.5  北北東     5.6   26.6    81      64   \n",
       "\n",
       "   平均現地気圧  平均海面気圧  最低海面気圧  \n",
       "0  1013.9  1016.7  1015.2  \n",
       "1  1016.9  1019.8  1017.5  \n",
       "2  1006.5  1009.3  1004.7  \n",
       "3  1018.5  1021.4  1017.5  \n",
       "4  1015.6  1018.4  1016.7  "
      ]
     },
     "execution_count": 2,
     "metadata": {},
     "output_type": "execute_result"
    }
   ],
   "source": [
    "import pandas as pd\n",
    "temp = pd.read_csv(\"./data/X_train.csv\", sep=\",\") # sepは区切り文字の指定\n",
    "temp.head()"
   ]
  },
  {
   "cell_type": "code",
   "execution_count": 27,
   "metadata": {},
   "outputs": [
    {
     "data": {
      "text/html": [
       "<div>\n",
       "<style scoped>\n",
       "    .dataframe tbody tr th:only-of-type {\n",
       "        vertical-align: middle;\n",
       "    }\n",
       "\n",
       "    .dataframe tbody tr th {\n",
       "        vertical-align: top;\n",
       "    }\n",
       "\n",
       "    .dataframe thead th {\n",
       "        text-align: right;\n",
       "    }\n",
       "</style>\n",
       "<table border=\"1\" class=\"dataframe\">\n",
       "  <thead>\n",
       "    <tr style=\"text-align: right;\">\n",
       "      <th></th>\n",
       "      <th>0.0</th>\n",
       "    </tr>\n",
       "  </thead>\n",
       "  <tbody>\n",
       "    <tr>\n",
       "      <th>0</th>\n",
       "      <td>0.0</td>\n",
       "    </tr>\n",
       "    <tr>\n",
       "      <th>1</th>\n",
       "      <td>10.6</td>\n",
       "    </tr>\n",
       "    <tr>\n",
       "      <th>2</th>\n",
       "      <td>2.6</td>\n",
       "    </tr>\n",
       "    <tr>\n",
       "      <th>3</th>\n",
       "      <td>0.5</td>\n",
       "    </tr>\n",
       "    <tr>\n",
       "      <th>4</th>\n",
       "      <td>10.1</td>\n",
       "    </tr>\n",
       "    <tr>\n",
       "      <th>5</th>\n",
       "      <td>6.1</td>\n",
       "    </tr>\n",
       "    <tr>\n",
       "      <th>6</th>\n",
       "      <td>0.4</td>\n",
       "    </tr>\n",
       "    <tr>\n",
       "      <th>7</th>\n",
       "      <td>1.2</td>\n",
       "    </tr>\n",
       "    <tr>\n",
       "      <th>8</th>\n",
       "      <td>0.1</td>\n",
       "    </tr>\n",
       "    <tr>\n",
       "      <th>9</th>\n",
       "      <td>10.6</td>\n",
       "    </tr>\n",
       "  </tbody>\n",
       "</table>\n",
       "</div>"
      ],
      "text/plain": [
       "    0.0\n",
       "0   0.0\n",
       "1  10.6\n",
       "2   2.6\n",
       "3   0.5\n",
       "4  10.1\n",
       "5   6.1\n",
       "6   0.4\n",
       "7   1.2\n",
       "8   0.1\n",
       "9  10.6"
      ]
     },
     "execution_count": 27,
     "metadata": {},
     "output_type": "execute_result"
    }
   ],
   "source": [
    "Y = pd.read_csv(\"./data/y_train.csv\", sep=\",\") # sepは区切り文字の指定\n",
    "Y.head(10)"
   ]
  },
  {
   "cell_type": "code",
   "execution_count": 4,
   "metadata": {},
   "outputs": [
    {
     "data": {
      "text/html": [
       "<div>\n",
       "<style scoped>\n",
       "    .dataframe tbody tr th:only-of-type {\n",
       "        vertical-align: middle;\n",
       "    }\n",
       "\n",
       "    .dataframe tbody tr th {\n",
       "        vertical-align: top;\n",
       "    }\n",
       "\n",
       "    .dataframe thead th {\n",
       "        text-align: right;\n",
       "    }\n",
       "</style>\n",
       "<table border=\"1\" class=\"dataframe\">\n",
       "  <thead>\n",
       "    <tr style=\"text-align: right;\">\n",
       "      <th></th>\n",
       "      <th>平均気温</th>\n",
       "      <th>最高気温</th>\n",
       "      <th>最低気温</th>\n",
       "      <th>降水量の合計</th>\n",
       "      <th>平均風速</th>\n",
       "      <th>最大風速</th>\n",
       "      <th>最大瞬間風速</th>\n",
       "      <th>平均蒸気圧</th>\n",
       "      <th>平均湿度</th>\n",
       "      <th>最小相対湿度</th>\n",
       "      <th>平均現地気圧</th>\n",
       "      <th>平均海面気圧</th>\n",
       "      <th>最低海面気圧</th>\n",
       "    </tr>\n",
       "  </thead>\n",
       "  <tbody>\n",
       "    <tr>\n",
       "      <th>0</th>\n",
       "      <td>22.4</td>\n",
       "      <td>23.6</td>\n",
       "      <td>20.3</td>\n",
       "      <td>0.0</td>\n",
       "      <td>2.8</td>\n",
       "      <td>5.0</td>\n",
       "      <td>7.6</td>\n",
       "      <td>18.3</td>\n",
       "      <td>67</td>\n",
       "      <td>56</td>\n",
       "      <td>1013.9</td>\n",
       "      <td>1016.7</td>\n",
       "      <td>1015.2</td>\n",
       "    </tr>\n",
       "    <tr>\n",
       "      <th>1</th>\n",
       "      <td>18.2</td>\n",
       "      <td>21.3</td>\n",
       "      <td>14.9</td>\n",
       "      <td>6.5</td>\n",
       "      <td>2.8</td>\n",
       "      <td>5.3</td>\n",
       "      <td>9.8</td>\n",
       "      <td>16.2</td>\n",
       "      <td>78</td>\n",
       "      <td>63</td>\n",
       "      <td>1016.9</td>\n",
       "      <td>1019.8</td>\n",
       "      <td>1017.5</td>\n",
       "    </tr>\n",
       "    <tr>\n",
       "      <th>2</th>\n",
       "      <td>25.8</td>\n",
       "      <td>31.1</td>\n",
       "      <td>22.3</td>\n",
       "      <td>0.0</td>\n",
       "      <td>2.7</td>\n",
       "      <td>5.3</td>\n",
       "      <td>10.4</td>\n",
       "      <td>25.9</td>\n",
       "      <td>79</td>\n",
       "      <td>52</td>\n",
       "      <td>1006.5</td>\n",
       "      <td>1009.3</td>\n",
       "      <td>1004.7</td>\n",
       "    </tr>\n",
       "    <tr>\n",
       "      <th>3</th>\n",
       "      <td>18.4</td>\n",
       "      <td>23.0</td>\n",
       "      <td>16.2</td>\n",
       "      <td>0.0</td>\n",
       "      <td>2.8</td>\n",
       "      <td>5.2</td>\n",
       "      <td>9.4</td>\n",
       "      <td>16.7</td>\n",
       "      <td>80</td>\n",
       "      <td>53</td>\n",
       "      <td>1018.5</td>\n",
       "      <td>1021.4</td>\n",
       "      <td>1017.5</td>\n",
       "    </tr>\n",
       "    <tr>\n",
       "      <th>4</th>\n",
       "      <td>25.7</td>\n",
       "      <td>29.6</td>\n",
       "      <td>23.0</td>\n",
       "      <td>0.0</td>\n",
       "      <td>1.8</td>\n",
       "      <td>3.5</td>\n",
       "      <td>5.6</td>\n",
       "      <td>26.6</td>\n",
       "      <td>81</td>\n",
       "      <td>64</td>\n",
       "      <td>1015.6</td>\n",
       "      <td>1018.4</td>\n",
       "      <td>1016.7</td>\n",
       "    </tr>\n",
       "  </tbody>\n",
       "</table>\n",
       "</div>"
      ],
      "text/plain": [
       "   平均気温  最高気温  最低気温  降水量の合計  平均風速  最大風速  最大瞬間風速  平均蒸気圧  平均湿度  最小相対湿度  平均現地気圧  \\\n",
       "0  22.4  23.6  20.3     0.0   2.8   5.0     7.6   18.3    67      56  1013.9   \n",
       "1  18.2  21.3  14.9     6.5   2.8   5.3     9.8   16.2    78      63  1016.9   \n",
       "2  25.8  31.1  22.3     0.0   2.7   5.3    10.4   25.9    79      52  1006.5   \n",
       "3  18.4  23.0  16.2     0.0   2.8   5.2     9.4   16.7    80      53  1018.5   \n",
       "4  25.7  29.6  23.0     0.0   1.8   3.5     5.6   26.6    81      64  1015.6   \n",
       "\n",
       "   平均海面気圧  最低海面気圧  \n",
       "0  1016.7  1015.2  \n",
       "1  1019.8  1017.5  \n",
       "2  1009.3  1004.7  \n",
       "3  1021.4  1017.5  \n",
       "4  1018.4  1016.7  "
      ]
     },
     "execution_count": 4,
     "metadata": {},
     "output_type": "execute_result"
    }
   ],
   "source": [
    "X = temp\n",
    "X = X.drop(\"最多風向\", 1)\n",
    "X = X.drop(27)\n",
    "X.head()"
   ]
  },
  {
   "cell_type": "code",
   "execution_count": 26,
   "metadata": {},
   "outputs": [
    {
     "name": "stdout",
     "output_type": "stream",
     "text": [
      "<class 'pandas.core.frame.DataFrame'>\n",
      "Int64Index: 27 entries, 0 to 26\n",
      "Data columns (total 13 columns):\n",
      " #   Column  Non-Null Count  Dtype  \n",
      "---  ------  --------------  -----  \n",
      " 0   平均気温    27 non-null     float64\n",
      " 1   最高気温    27 non-null     float64\n",
      " 2   最低気温    27 non-null     float64\n",
      " 3   降水量の合計  27 non-null     float64\n",
      " 4   平均風速    27 non-null     float64\n",
      " 5   最大風速    27 non-null     float64\n",
      " 6   最大瞬間風速  27 non-null     float64\n",
      " 7   平均蒸気圧   27 non-null     float64\n",
      " 8   平均湿度    27 non-null     int64  \n",
      " 9   最小相対湿度  27 non-null     int64  \n",
      " 10  平均現地気圧  27 non-null     float64\n",
      " 11  平均海面気圧  27 non-null     float64\n",
      " 12  最低海面気圧  27 non-null     float64\n",
      "dtypes: float64(11), int64(2)\n",
      "memory usage: 3.0 KB\n"
     ]
    }
   ],
   "source": [
    "X.info()"
   ]
  },
  {
   "cell_type": "markdown",
   "metadata": {},
   "source": [
    "X = X - X.mean()\n",
    "Y = Y - Y.mean()"
   ]
  },
  {
   "cell_type": "code",
   "execution_count": 5,
   "metadata": {},
   "outputs": [],
   "source": [
    "# データの分割\n",
    "from sklearn.model_selection import train_test_split\n",
    "X_train, X_test, Y_train, Y_test = train_test_split(X, Y, test_size=0.5, random_state=0)"
   ]
  },
  {
   "cell_type": "code",
   "execution_count": 6,
   "metadata": {},
   "outputs": [
    {
     "data": {
      "text/plain": [
       "LinearRegression()"
      ]
     },
     "execution_count": 6,
     "metadata": {},
     "output_type": "execute_result"
    }
   ],
   "source": [
    "#線形回帰モデル\n",
    "from sklearn.linear_model import LinearRegression\n",
    "model = LinearRegression()\n",
    "#学習はfit\n",
    "model.fit(X_train, Y_train)"
   ]
  },
  {
   "cell_type": "code",
   "execution_count": 7,
   "metadata": {},
   "outputs": [],
   "source": [
    "Y_pred = model.predict(X_test)"
   ]
  },
  {
   "cell_type": "code",
   "execution_count": 8,
   "metadata": {},
   "outputs": [
    {
     "name": "stdout",
     "output_type": "stream",
     "text": [
      "    0.0\n",
      "2   2.6\n",
      "24  1.6\n",
      "14  0.0\n",
      "17  1.0\n",
      "5   6.1\n",
      "\n",
      "\n",
      "[[ -3.69299211]\n",
      " [  4.20947582]\n",
      " [  2.07067646]\n",
      " [-15.77041126]\n",
      " [  1.76024462]]\n"
     ]
    }
   ],
   "source": [
    "print(Y_test[:5])\n",
    "print(\"\\n\")\n",
    "print(Y_pred[:5])"
   ]
  },
  {
   "cell_type": "code",
   "execution_count": 21,
   "metadata": {},
   "outputs": [
    {
     "name": "stdout",
     "output_type": "stream",
     "text": [
      "係数:  [[-15.20515551  -1.20633782   5.39914633   0.21537204  -8.41721566\n",
      "    6.08042727  -2.53421907   9.15563644  -1.68554228  -0.47136621\n",
      "   -0.88081182   0.67757755   0.19637968]]\n",
      "切片:  [248.46556286]\n",
      "決定係数:  1.0\n"
     ]
    }
   ],
   "source": [
    "# 回帰係数\n",
    "print(\"係数: \", model.coef_)\n",
    " \n",
    "# 切片\n",
    "print(\"切片: \", model.intercept_)\n",
    " \n",
    "# 決定係数\n",
    "print(\"決定係数: \", model.score(X_train, Y_train))"
   ]
  },
  {
   "cell_type": "code",
   "execution_count": 25,
   "metadata": {},
   "outputs": [
    {
     "data": {
      "text/plain": [
       "240.84284027435345"
      ]
     },
     "execution_count": 25,
     "metadata": {},
     "output_type": "execute_result"
    }
   ],
   "source": [
    "# 平均二乗誤差 (MSE)\n",
    "from sklearn.metrics import mean_squared_error\n",
    "mean_squared_error(Y_test, model.predict(X_test))"
   ]
  },
  {
   "cell_type": "code",
   "execution_count": 17,
   "metadata": {},
   "outputs": [
    {
     "name": "stderr",
     "output_type": "stream",
     "text": [
      "<ipython-input-17-b2c56099ca6e>:10: UserWarning: Matplotlib is currently using module://ipykernel.pylab.backend_inline, which is a non-GUI backend, so cannot show the figure.\n",
      "  fig.show()\n"
     ]
    },
    {
     "data": {
      "image/png": "[encoded data removed]",
      "text/plain": [
       "<Figure size 864x288 with 2 Axes>"
      ]
     },
     "metadata": {
      "needs_background": "light"
     },
     "output_type": "display_data"
    }
   ],
   "source": [
    "fig, axes = plt.subplots(ncols=2, figsize=(12, 4))\n",
    "\n",
    "# axes[0].scatter(X_train, Y_train, marker=\".\")\n",
    "axes[0].plot(X_train, model.predict(X_train), color=\"red\")\n",
    "axes[0].set_title(\"train\")\n",
    "\n",
    "# axes[1].scatter(X_test, Y_test, marker=\".\")\n",
    "axes[1].plot(X_test, model.predict(X_test), color=\"red\")\n",
    "axes[1].set_title(\"test\")\n",
    "fig.show()"
   ]
  },
  {
   "cell_type": "code",
   "execution_count": 11,
   "metadata": {},
   "outputs": [
    {
     "data": {
      "text/plain": [
       "<matplotlib.collections.PathCollection at 0x199af36b370>"
      ]
     },
     "execution_count": 11,
     "metadata": {},
     "output_type": "execute_result"
    },
    {
     "data": {
      "image/png": "[encoded data removed]",
      "text/plain": [
       "<Figure size 432x288 with 1 Axes>"
      ]
     },
     "metadata": {
      "needs_background": "light"
     },
     "output_type": "display_data"
    }
   ],
   "source": [
    "plt.scatter(Y_test, Y_pred)"
   ]
  },
  {
   "cell_type": "code",
   "execution_count": 12,
   "metadata": {},
   "outputs": [
    {
     "data": {
      "text/plain": [
       "1.0"
      ]
     },
     "execution_count": 12,
     "metadata": {},
     "output_type": "execute_result"
    }
   ],
   "source": [
    "#トレーニングに使用したデータセットでの精度\n",
    "model.score(X_train,Y_train)"
   ]
  },
  {
   "cell_type": "code",
   "execution_count": 13,
   "metadata": {},
   "outputs": [
    {
     "data": {
      "text/plain": [
       "-17.923862566055163"
      ]
     },
     "execution_count": 13,
     "metadata": {},
     "output_type": "execute_result"
    }
   ],
   "source": [
    "#テストに使用したデータセットでの精度\n",
    "model.score(X_test,Y_test)"
   ]
  },
  {
   "cell_type": "code",
   "execution_count": 14,
   "metadata": {},
   "outputs": [],
   "source": [
    "from sklearn.utils.estimator_checks import check_estimator\n",
    "check_estimator(model)"
   ]
  },
  {
   "cell_type": "code",
   "execution_count": null,
   "metadata": {},
   "outputs": [],
   "source": [
    "# モデル構築のためのインポート\n",
    "from sklearn.linear_model import Ridge"
   ]
  }
 ],
 "metadata": {
  "kernelspec": {
   "display_name": "Python 3",
   "language": "python",
   "name": "python3"
  },
  "language_info": {
   "codemirror_mode": {
    "name": "ipython",
    "version": 3
   },
   "file_extension": ".py",
   "mimetype": "text/x-python",
   "name": "python",
   "nbconvert_exporter": "python",
   "pygments_lexer": "ipython3",
   "version": "3.7.9"
  }
 },
 "nbformat": 4,
 "nbformat_minor": 4
}
